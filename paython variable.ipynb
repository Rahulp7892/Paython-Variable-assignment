{
 "cells": [
  {
   "cell_type": "code",
   "execution_count": null,
   "id": "ebc65ada-6b63-454a-b2c3-83a29c483b44",
   "metadata": {},
   "outputs": [],
   "source": [
    "Q 1. Write all the conventions being followed while declaring a variable.\n",
    "1+2"
   ]
  },
  {
   "cell_type": "code",
   "execution_count": 2,
   "id": "64370cc6-29a9-496e-8361-a36ebaf6223e",
   "metadata": {},
   "outputs": [],
   "source": [
    "a=2"
   ]
  },
  {
   "cell_type": "code",
   "execution_count": 3,
   "id": "b710b538-ad0b-4cf3-bffc-35af3f7112d8",
   "metadata": {},
   "outputs": [
    {
     "data": {
      "text/plain": [
       "2"
      ]
     },
     "execution_count": 3,
     "metadata": {},
     "output_type": "execute_result"
    }
   ],
   "source": [
    "a"
   ]
  },
  {
   "cell_type": "code",
   "execution_count": 4,
   "id": "21b52a90-41fa-463d-a7e5-55552bc54696",
   "metadata": {},
   "outputs": [
    {
     "data": {
      "text/plain": [
       "int"
      ]
     },
     "execution_count": 4,
     "metadata": {},
     "output_type": "execute_result"
    }
   ],
   "source": [
    "type (a)"
   ]
  },
  {
   "cell_type": "code",
   "execution_count": 5,
   "id": "db46e2ac-b328-4da8-9c30-3b6f14872bb0",
   "metadata": {},
   "outputs": [],
   "source": [
    "b=45.34"
   ]
  },
  {
   "cell_type": "code",
   "execution_count": 7,
   "id": "3a977aff-1c09-44aa-908b-4fd35454032d",
   "metadata": {},
   "outputs": [
    {
     "data": {
      "text/plain": [
       "45.34"
      ]
     },
     "execution_count": 7,
     "metadata": {},
     "output_type": "execute_result"
    }
   ],
   "source": [
    "b"
   ]
  },
  {
   "cell_type": "code",
   "execution_count": 8,
   "id": "4df1d1d9-31f5-434e-80a0-2eabd9f8e13c",
   "metadata": {},
   "outputs": [
    {
     "data": {
      "text/plain": [
       "float"
      ]
     },
     "execution_count": 8,
     "metadata": {},
     "output_type": "execute_result"
    }
   ],
   "source": [
    "type(b)"
   ]
  },
  {
   "cell_type": "code",
   "execution_count": 25,
   "id": "8db95b4e-5b54-4bf8-b9d5-795fa8311a33",
   "metadata": {},
   "outputs": [],
   "source": [
    "a = 10"
   ]
  },
  {
   "cell_type": "code",
   "execution_count": 26,
   "id": "69c98aee-b3d2-4566-bb1e-20b681c375db",
   "metadata": {},
   "outputs": [
    {
     "data": {
      "text/plain": [
       "10"
      ]
     },
     "execution_count": 26,
     "metadata": {},
     "output_type": "execute_result"
    }
   ],
   "source": [
    "a"
   ]
  },
  {
   "cell_type": "code",
   "execution_count": 27,
   "id": "82f36a3c-58b8-48b1-a33e-eef57c3d916c",
   "metadata": {},
   "outputs": [
    {
     "data": {
      "text/plain": [
       "int"
      ]
     },
     "execution_count": 27,
     "metadata": {},
     "output_type": "execute_result"
    }
   ],
   "source": [
    "type(a)"
   ]
  },
  {
   "cell_type": "code",
   "execution_count": 31,
   "id": "946a5455-4a3d-40b2-88e6-f23939dced92",
   "metadata": {},
   "outputs": [],
   "source": [
    "a = 45.35151"
   ]
  },
  {
   "cell_type": "code",
   "execution_count": 32,
   "id": "ca04e25d-99ed-4b27-8d1b-217054b5ab8c",
   "metadata": {},
   "outputs": [
    {
     "data": {
      "text/plain": [
       "45.35151"
      ]
     },
     "execution_count": 32,
     "metadata": {},
     "output_type": "execute_result"
    }
   ],
   "source": [
    "a"
   ]
  },
  {
   "cell_type": "code",
   "execution_count": 4,
   "id": "0d491d6b-bc67-481e-b0cb-1118f8f3c688",
   "metadata": {},
   "outputs": [],
   "source": [
    "R = \"Rahul\""
   ]
  },
  {
   "cell_type": "code",
   "execution_count": 5,
   "id": "dae62141-6f39-4bf6-a9f3-63d309806648",
   "metadata": {},
   "outputs": [
    {
     "data": {
      "text/plain": [
       "'Rahul'"
      ]
     },
     "execution_count": 5,
     "metadata": {},
     "output_type": "execute_result"
    }
   ],
   "source": [
    "R"
   ]
  },
  {
   "cell_type": "code",
   "execution_count": 6,
   "id": "57e8a3a7-4b55-445f-afa5-34d6e5e31d5e",
   "metadata": {},
   "outputs": [],
   "source": [
    "c = \"my name is rahul patil\""
   ]
  },
  {
   "cell_type": "code",
   "execution_count": 7,
   "id": "e02361ac-3e56-465c-b333-cde9f79d9d0f",
   "metadata": {},
   "outputs": [
    {
     "data": {
      "text/plain": [
       "'my name is rahul patil'"
      ]
     },
     "execution_count": 7,
     "metadata": {},
     "output_type": "execute_result"
    }
   ],
   "source": [
    "c"
   ]
  },
  {
   "cell_type": "code",
   "execution_count": 9,
   "id": "1d498908-efd5-4e26-bdda-1e87e997d559",
   "metadata": {},
   "outputs": [
    {
     "data": {
      "text/plain": [
       "str"
      ]
     },
     "execution_count": 9,
     "metadata": {},
     "output_type": "execute_result"
    }
   ],
   "source": [
    "type(R)"
   ]
  },
  {
   "cell_type": "code",
   "execution_count": 10,
   "id": "9747409b-d2bf-4e36-ac35-dee05ff69a74",
   "metadata": {},
   "outputs": [
    {
     "data": {
      "text/plain": [
       "str"
      ]
     },
     "execution_count": 10,
     "metadata": {},
     "output_type": "execute_result"
    }
   ],
   "source": [
    "type(c)"
   ]
  },
  {
   "cell_type": "code",
   "execution_count": 1,
   "id": "19555354-d622-4f2b-8c37-07d2ff1af187",
   "metadata": {},
   "outputs": [],
   "source": [
    "b1 = True"
   ]
  },
  {
   "cell_type": "code",
   "execution_count": 13,
   "id": "b02975c6-f38c-4579-998f-933d1700a69d",
   "metadata": {},
   "outputs": [
    {
     "data": {
      "text/plain": [
       "bool"
      ]
     },
     "execution_count": 13,
     "metadata": {},
     "output_type": "execute_result"
    }
   ],
   "source": [
    "type(b)"
   ]
  },
  {
   "cell_type": "code",
   "execution_count": 14,
   "id": "020e0f3b-cead-4f4d-a07e-720243fb31b0",
   "metadata": {},
   "outputs": [],
   "source": [
    "b2=False"
   ]
  },
  {
   "cell_type": "code",
   "execution_count": 15,
   "id": "bb5abc4a-b380-4f70-b0b6-c6659ecb48a5",
   "metadata": {},
   "outputs": [
    {
     "data": {
      "text/plain": [
       "bool"
      ]
     },
     "execution_count": 15,
     "metadata": {},
     "output_type": "execute_result"
    }
   ],
   "source": [
    "type(b2)"
   ]
  },
  {
   "cell_type": "code",
   "execution_count": 19,
   "id": "460212ab-1b1b-4a61-b9eb-198dd0cab6b5",
   "metadata": {},
   "outputs": [
    {
     "data": {
      "text/plain": [
       "1"
      ]
     },
     "execution_count": 19,
     "metadata": {},
     "output_type": "execute_result"
    }
   ],
   "source": [
    "b1-b2"
   ]
  },
  {
   "cell_type": "code",
   "execution_count": 33,
   "id": "dd6d3957-4f37-4638-9dca-f5495ae9c834",
   "metadata": {},
   "outputs": [
    {
     "data": {
      "text/plain": [
       "46.35151"
      ]
     },
     "execution_count": 33,
     "metadata": {},
     "output_type": "execute_result"
    }
   ],
   "source": [
    "a + b1"
   ]
  },
  {
   "cell_type": "code",
   "execution_count": 30,
   "id": "f62b125e-dd07-4789-8620-e5ce1c72dc5c",
   "metadata": {},
   "outputs": [
    {
     "data": {
      "text/plain": [
       "0"
      ]
     },
     "execution_count": 30,
     "metadata": {},
     "output_type": "execute_result"
    }
   ],
   "source": [
    "b1*b2"
   ]
  },
  {
   "cell_type": "code",
   "execution_count": 3,
   "id": "46492bd2-8d88-472a-a343-e8009dc95990",
   "metadata": {},
   "outputs": [],
   "source": [
    "h = 7+8j"
   ]
  },
  {
   "cell_type": "code",
   "execution_count": 35,
   "id": "0d60a08e-93e7-41dd-87c6-b801f40e61e5",
   "metadata": {},
   "outputs": [
    {
     "data": {
      "text/plain": [
       "complex"
      ]
     },
     "execution_count": 35,
     "metadata": {},
     "output_type": "execute_result"
    }
   ],
   "source": [
    "type (h)"
   ]
  },
  {
   "cell_type": "code",
   "execution_count": 37,
   "id": "5be619cb-7224-4026-b862-a2410d34c991",
   "metadata": {},
   "outputs": [],
   "source": [
    "i = 6j"
   ]
  },
  {
   "cell_type": "code",
   "execution_count": 38,
   "id": "f2f907a1-aba0-4586-a82f-78fdd0c8d18e",
   "metadata": {},
   "outputs": [
    {
     "data": {
      "text/plain": [
       "complex"
      ]
     },
     "execution_count": 38,
     "metadata": {},
     "output_type": "execute_result"
    }
   ],
   "source": [
    "type (i)"
   ]
  },
  {
   "cell_type": "code",
   "execution_count": 4,
   "id": "25125b8d-0602-4da4-948a-cdcdebdbee54",
   "metadata": {},
   "outputs": [
    {
     "data": {
      "text/plain": [
       "(7+8j)"
      ]
     },
     "execution_count": 4,
     "metadata": {},
     "output_type": "execute_result"
    }
   ],
   "source": [
    "h"
   ]
  },
  {
   "cell_type": "code",
   "execution_count": 5,
   "id": "d100c1f9-8ecc-485e-9204-39ae95e7200f",
   "metadata": {},
   "outputs": [
    {
     "data": {
      "text/plain": [
       "7.0"
      ]
     },
     "execution_count": 5,
     "metadata": {},
     "output_type": "execute_result"
    }
   ],
   "source": [
    "h.real"
   ]
  },
  {
   "cell_type": "code",
   "execution_count": 6,
   "id": "4c101d83-a9fd-49ac-bec1-622596e890f7",
   "metadata": {},
   "outputs": [
    {
     "data": {
      "text/plain": [
       "8.0"
      ]
     },
     "execution_count": 6,
     "metadata": {},
     "output_type": "execute_result"
    }
   ],
   "source": [
    "h.imag"
   ]
  },
  {
   "cell_type": "raw",
   "id": "977b5b38-11f8-4838-9f77-7037b73fc3dd",
   "metadata": {},
   "source": [
    "Q 2.What will happen if we declare a restricted keyword as a variable ?"
   ]
  },
  {
   "cell_type": "raw",
   "id": "b6fdcc6d-2a03-4404-82e3-f707e4655a4a",
   "metadata": {},
   "source": [
    "Ans: There have come error code becouse that data is not variable thats why do not execute and as sign that data."
   ]
  },
  {
   "cell_type": "raw",
   "id": "e684dfe4-c100-41ab-9eb9-9cfdb0999ae4",
   "metadata": {},
   "source": [
    "Q 3. Can we actually declare a string as a variable name ?"
   ]
  },
  {
   "cell_type": "raw",
   "id": "0e1bf950-6b8c-439e-b6a1-dad488c7ba91",
   "metadata": {},
   "source": [
    "Ans : YES"
   ]
  },
  {
   "cell_type": "raw",
   "id": "08dbc2db-5c29-4d6d-bab6-34b914cbdd91",
   "metadata": {},
   "source": [
    "Q 4. Is it possible for us to declare \"_\" as a variable ? If so, then write an example of it."
   ]
  },
  {
   "cell_type": "raw",
   "id": "3ac977a4-b721-4f3a-ade1-d0a1e19583d1",
   "metadata": {},
   "source": [
    "Ans : NO"
   ]
  },
  {
   "cell_type": "code",
   "execution_count": 1,
   "id": "c85bba9f-6a8a-42e2-8690-fbf8d77ff990",
   "metadata": {},
   "outputs": [
    {
     "ename": "NameError",
     "evalue": "name '_789' is not defined",
     "output_type": "error",
     "traceback": [
      "\u001b[0;31m---------------------------------------------------------------------------\u001b[0m",
      "\u001b[0;31mNameError\u001b[0m                                 Traceback (most recent call last)",
      "Cell \u001b[0;32mIn[1], line 1\u001b[0m\n\u001b[0;32m----> 1\u001b[0m Example : a \u001b[38;5;241m=\u001b[39m \u001b[43m_789\u001b[49m\n",
      "\u001b[0;31mNameError\u001b[0m: name '_789' is not defined"
     ]
    }
   ],
   "source": [
    "Example : a = _Rahul"
   ]
  },
  {
   "cell_type": "markdown",
   "id": "8759deed-b81b-438f-ba3d-d90a7b239574",
   "metadata": {},
   "source": [
    "Q 5. Using an example,explain how the variables in python are dynamic in nature."
   ]
  },
  {
   "cell_type": "raw",
   "id": "ce9ad3cf-8c4f-4da1-94fc-9b3917cbfa82",
   "metadata": {},
   "source": [
    "Ans:"
   ]
  },
  {
   "cell_type": "code",
   "execution_count": 3,
   "id": "f1ebe1bb-7032-4e7c-b51a-bd7fc7d18d21",
   "metadata": {},
   "outputs": [
    {
     "data": {
      "text/plain": [
       "3"
      ]
     },
     "execution_count": 3,
     "metadata": {},
     "output_type": "execute_result"
    }
   ],
   "source": [
    "1+2"
   ]
  },
  {
   "cell_type": "code",
   "execution_count": 4,
   "id": "5c02525d-6fa4-4294-afdc-4e7b4a34d499",
   "metadata": {},
   "outputs": [],
   "source": [
    "a = 2"
   ]
  },
  {
   "cell_type": "code",
   "execution_count": 5,
   "id": "48b5197e-aff7-4339-a755-f372a94b9fac",
   "metadata": {},
   "outputs": [
    {
     "data": {
      "text/plain": [
       "2"
      ]
     },
     "execution_count": 5,
     "metadata": {},
     "output_type": "execute_result"
    }
   ],
   "source": [
    "a"
   ]
  },
  {
   "cell_type": "code",
   "execution_count": 6,
   "id": "743133a0-6cdd-470e-b6d4-480283244e08",
   "metadata": {},
   "outputs": [
    {
     "data": {
      "text/plain": [
       "int"
      ]
     },
     "execution_count": 6,
     "metadata": {},
     "output_type": "execute_result"
    }
   ],
   "source": [
    "type (a)"
   ]
  },
  {
   "cell_type": "code",
   "execution_count": 9,
   "id": "a9a550ce-9253-4dd4-bb0c-c308396d563d",
   "metadata": {},
   "outputs": [],
   "source": [
    "b = 45.34"
   ]
  },
  {
   "cell_type": "code",
   "execution_count": 11,
   "id": "e5184106-259d-4708-b956-713e78929cfd",
   "metadata": {},
   "outputs": [
    {
     "data": {
      "text/plain": [
       "45.34"
      ]
     },
     "execution_count": 11,
     "metadata": {},
     "output_type": "execute_result"
    }
   ],
   "source": [
    "b"
   ]
  },
  {
   "cell_type": "code",
   "execution_count": 12,
   "id": "fc32bd15-fca4-417d-bd2d-e8d05f26c15f",
   "metadata": {},
   "outputs": [
    {
     "data": {
      "text/plain": [
       "float"
      ]
     },
     "execution_count": 12,
     "metadata": {},
     "output_type": "execute_result"
    }
   ],
   "source": [
    "type (b)"
   ]
  },
  {
   "cell_type": "code",
   "execution_count": 13,
   "id": "0a710501-b71d-45a2-b1c1-b99afa658911",
   "metadata": {},
   "outputs": [],
   "source": [
    "a = 10"
   ]
  },
  {
   "cell_type": "code",
   "execution_count": 14,
   "id": "e08d85b8-73d9-4e09-9dde-7f234e073aa3",
   "metadata": {},
   "outputs": [
    {
     "data": {
      "text/plain": [
       "10"
      ]
     },
     "execution_count": 14,
     "metadata": {},
     "output_type": "execute_result"
    }
   ],
   "source": [
    "a"
   ]
  },
  {
   "cell_type": "code",
   "execution_count": 15,
   "id": "985b0cda-ad22-44b6-b302-ebd9f71f0c08",
   "metadata": {},
   "outputs": [
    {
     "data": {
      "text/plain": [
       "int"
      ]
     },
     "execution_count": 15,
     "metadata": {},
     "output_type": "execute_result"
    }
   ],
   "source": [
    "type (a)"
   ]
  },
  {
   "cell_type": "code",
   "execution_count": 16,
   "id": "05a13c99-1817-495c-90d0-2262ec821410",
   "metadata": {},
   "outputs": [],
   "source": [
    "a = 45.654131"
   ]
  },
  {
   "cell_type": "code",
   "execution_count": 17,
   "id": "817ff25b-46ab-42e7-9135-2ab9014ba394",
   "metadata": {},
   "outputs": [
    {
     "data": {
      "text/plain": [
       "45.654131"
      ]
     },
     "execution_count": 17,
     "metadata": {},
     "output_type": "execute_result"
    }
   ],
   "source": [
    "a"
   ]
  },
  {
   "cell_type": "code",
   "execution_count": 18,
   "id": "e5c1ff9e-5e4b-4e5b-85fd-e5bc0d10932f",
   "metadata": {},
   "outputs": [],
   "source": [
    "s = \"rahul\""
   ]
  },
  {
   "cell_type": "code",
   "execution_count": 19,
   "id": "2aeb165d-1183-4bae-bda8-aff808db67b3",
   "metadata": {},
   "outputs": [
    {
     "data": {
      "text/plain": [
       "'rahul'"
      ]
     },
     "execution_count": 19,
     "metadata": {},
     "output_type": "execute_result"
    }
   ],
   "source": [
    "s"
   ]
  },
  {
   "cell_type": "code",
   "execution_count": 20,
   "id": "ab07e884-ae6c-4c52-87c3-ada9ec89a373",
   "metadata": {},
   "outputs": [],
   "source": [
    "c = \"my name is rahul patil\""
   ]
  },
  {
   "cell_type": "code",
   "execution_count": 21,
   "id": "1755ab03-53ca-4ad4-8891-d175343304e5",
   "metadata": {},
   "outputs": [
    {
     "data": {
      "text/plain": [
       "'my name is rahul patil'"
      ]
     },
     "execution_count": 21,
     "metadata": {},
     "output_type": "execute_result"
    }
   ],
   "source": [
    "c"
   ]
  },
  {
   "cell_type": "code",
   "execution_count": 22,
   "id": "77d4567a-56f9-4790-9ab0-2652941f34d5",
   "metadata": {},
   "outputs": [
    {
     "data": {
      "text/plain": [
       "str"
      ]
     },
     "execution_count": 22,
     "metadata": {},
     "output_type": "execute_result"
    }
   ],
   "source": [
    "type(s)"
   ]
  },
  {
   "cell_type": "code",
   "execution_count": 23,
   "id": "5f5104d6-f5b9-4165-b2c1-aba9e7f284a0",
   "metadata": {},
   "outputs": [
    {
     "data": {
      "text/plain": [
       "str"
      ]
     },
     "execution_count": 23,
     "metadata": {},
     "output_type": "execute_result"
    }
   ],
   "source": [
    "type(c)"
   ]
  },
  {
   "cell_type": "code",
   "execution_count": 24,
   "id": "e62a2535-6353-431e-8715-5974c1f14549",
   "metadata": {},
   "outputs": [],
   "source": [
    "b = True"
   ]
  },
  {
   "cell_type": "code",
   "execution_count": 26,
   "id": "8a5bc459-bf20-4255-8ec1-0cfa09191d0f",
   "metadata": {},
   "outputs": [
    {
     "data": {
      "text/plain": [
       "bool"
      ]
     },
     "execution_count": 26,
     "metadata": {},
     "output_type": "execute_result"
    }
   ],
   "source": [
    "type(b)"
   ]
  },
  {
   "cell_type": "code",
   "execution_count": 28,
   "id": "c10b3fde-c182-4026-9ca4-c778dce0672f",
   "metadata": {},
   "outputs": [],
   "source": [
    "b1 = True"
   ]
  },
  {
   "cell_type": "code",
   "execution_count": 29,
   "id": "53908869-cfac-45ce-99b6-55ec04ce7c3f",
   "metadata": {},
   "outputs": [],
   "source": [
    "b2 =False"
   ]
  },
  {
   "cell_type": "code",
   "execution_count": 30,
   "id": "352b0666-4fc2-4c95-937f-ca707abaaf66",
   "metadata": {},
   "outputs": [
    {
     "data": {
      "text/plain": [
       "1"
      ]
     },
     "execution_count": 30,
     "metadata": {},
     "output_type": "execute_result"
    }
   ],
   "source": [
    "b1-b2"
   ]
  },
  {
   "cell_type": "code",
   "execution_count": 31,
   "id": "687bc72e-eaad-4b4a-9b9f-ecd69095f43b",
   "metadata": {},
   "outputs": [
    {
     "data": {
      "text/plain": [
       "45.654131"
      ]
     },
     "execution_count": 31,
     "metadata": {},
     "output_type": "execute_result"
    }
   ],
   "source": [
    "a"
   ]
  },
  {
   "cell_type": "code",
   "execution_count": 32,
   "id": "e776e07e-ff62-446b-8239-376e621a9ba9",
   "metadata": {},
   "outputs": [
    {
     "data": {
      "text/plain": [
       "46.654131"
      ]
     },
     "execution_count": 32,
     "metadata": {},
     "output_type": "execute_result"
    }
   ],
   "source": [
    "a+b1"
   ]
  },
  {
   "cell_type": "code",
   "execution_count": 33,
   "id": "21179fcd-ada9-4771-8927-70c37e81db19",
   "metadata": {},
   "outputs": [
    {
     "data": {
      "text/plain": [
       "0"
      ]
     },
     "execution_count": 33,
     "metadata": {},
     "output_type": "execute_result"
    }
   ],
   "source": [
    "b1*b2"
   ]
  },
  {
   "cell_type": "code",
   "execution_count": 34,
   "id": "f7e1f6d2-3e7f-43dc-b9fb-528e9bcfdc49",
   "metadata": {},
   "outputs": [],
   "source": [
    "h = 7+8j"
   ]
  },
  {
   "cell_type": "code",
   "execution_count": 35,
   "id": "f927a270-12d2-4aaf-a8c8-d871ec88f47d",
   "metadata": {},
   "outputs": [
    {
     "data": {
      "text/plain": [
       "complex"
      ]
     },
     "execution_count": 35,
     "metadata": {},
     "output_type": "execute_result"
    }
   ],
   "source": [
    "type(h)"
   ]
  },
  {
   "cell_type": "code",
   "execution_count": 36,
   "id": "ecdf343c-d055-4751-8c24-5ef7ce7ebe1d",
   "metadata": {},
   "outputs": [],
   "source": [
    "i = 6j"
   ]
  },
  {
   "cell_type": "code",
   "execution_count": 37,
   "id": "aeeee9f9-43b3-457f-aed3-cd248615f410",
   "metadata": {},
   "outputs": [
    {
     "data": {
      "text/plain": [
       "complex"
      ]
     },
     "execution_count": 37,
     "metadata": {},
     "output_type": "execute_result"
    }
   ],
   "source": [
    "type(i)"
   ]
  },
  {
   "cell_type": "code",
   "execution_count": 38,
   "id": "7abd13bd-93ba-43b8-82d2-18f3c999aecf",
   "metadata": {},
   "outputs": [
    {
     "data": {
      "text/plain": [
       "(7+8j)"
      ]
     },
     "execution_count": 38,
     "metadata": {},
     "output_type": "execute_result"
    }
   ],
   "source": [
    "h"
   ]
  },
  {
   "cell_type": "code",
   "execution_count": 39,
   "id": "60ab1b8c-12ec-42af-9a96-738a104a6dc1",
   "metadata": {},
   "outputs": [
    {
     "data": {
      "text/plain": [
       "7.0"
      ]
     },
     "execution_count": 39,
     "metadata": {},
     "output_type": "execute_result"
    }
   ],
   "source": [
    "h.real"
   ]
  },
  {
   "cell_type": "code",
   "execution_count": 40,
   "id": "492a8f6b-bc0c-473b-84f2-e30b06d17dd8",
   "metadata": {},
   "outputs": [
    {
     "data": {
      "text/plain": [
       "8.0"
      ]
     },
     "execution_count": 40,
     "metadata": {},
     "output_type": "execute_result"
    }
   ],
   "source": [
    "h.imag"
   ]
  },
  {
   "cell_type": "code",
   "execution_count": 41,
   "id": "64950688-fbb5-4635-b676-3e74987ca04d",
   "metadata": {},
   "outputs": [
    {
     "data": {
      "text/plain": [
       "'rahul'"
      ]
     },
     "execution_count": 41,
     "metadata": {},
     "output_type": "execute_result"
    }
   ],
   "source": [
    "s"
   ]
  },
  {
   "cell_type": "code",
   "execution_count": null,
   "id": "2f8e569e-3f08-41a2-8a56-e6d343ac7bae",
   "metadata": {},
   "outputs": [],
   "source": []
  }
 ],
 "metadata": {
  "kernelspec": {
   "display_name": "Python 3 (ipykernel)",
   "language": "python",
   "name": "python3"
  },
  "language_info": {
   "codemirror_mode": {
    "name": "ipython",
    "version": 3
   },
   "file_extension": ".py",
   "mimetype": "text/x-python",
   "name": "python",
   "nbconvert_exporter": "python",
   "pygments_lexer": "ipython3",
   "version": "3.10.8"
  },
  "toc-autonumbering": true
 },
 "nbformat": 4,
 "nbformat_minor": 5
}
